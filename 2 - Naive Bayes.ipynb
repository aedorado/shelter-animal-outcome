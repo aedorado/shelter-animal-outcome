{
 "cells": [
  {
   "cell_type": "markdown",
   "metadata": {},
   "source": [
    "## 2 - Naive Bayes"
   ]
  },
  {
   "cell_type": "markdown",
   "metadata": {},
   "source": [
    "### Normal Naive Bayes"
   ]
  },
  {
   "cell_type": "code",
   "execution_count": 167,
   "metadata": {
    "collapsed": false
   },
   "outputs": [],
   "source": [
    "from sklearn.naive_bayes import GaussianNB \n",
    "from sklearn import cross_validation\n",
    "from sklearn.feature_selection import SelectKBest, f_classif\n",
    "from sklearn.grid_search import GridSearchCV\n",
    "from sklearn.pipeline import Pipeline\n",
    "from time import time\n",
    "import numpy as np\n",
    "import pandas as pd"
   ]
  },
  {
   "cell_type": "code",
   "execution_count": 168,
   "metadata": {
    "collapsed": false
   },
   "outputs": [],
   "source": [
    "train_data = pd.read_csv('input/train_prep.csv')\n",
    "test_data = pd.read_csv('input/test_prep.csv')"
   ]
  },
  {
   "cell_type": "code",
   "execution_count": 169,
   "metadata": {
    "collapsed": false
   },
   "outputs": [],
   "source": [
    "param = train_data.ix[:, :-1] # take all rows and all but last column from training data\n",
    "res = train_data.ix[:, -1] # take all rows and only last column from training data\n",
    "test_data = test_data.drop('ID', 1) # drop ID column from test data"
   ]
  },
  {
   "cell_type": "code",
   "execution_count": 170,
   "metadata": {
    "collapsed": false
   },
   "outputs": [
    {
     "data": {
      "text/plain": [
       "array([ 0.62303665,  0.61791659,  0.61347053,  0.61478017,  0.6184506 ])"
      ]
     },
     "execution_count": 170,
     "metadata": {},
     "output_type": "execute_result"
    }
   ],
   "source": [
    "model = GaussianNB()\n",
    "# cross_validation.cross_val_score(model, param, res, scoring=\"neg_log_loss\")\n",
    "cross_validation.cross_val_score(model, param, res, cv=5)"
   ]
  },
  {
   "cell_type": "code",
   "execution_count": 171,
   "metadata": {
    "collapsed": true
   },
   "outputs": [],
   "source": [
    "# create output file\n",
    "def create_output_file(data, file_name):\n",
    "    output = []\n",
    "    for pred in data:\n",
    "        oi = [0] * 5\n",
    "        oi[pred - 1] = 1\n",
    "        output.append(oi)\n",
    "    output = pd.DataFrame(output, columns=['Adoption', 'Died', 'Euthanasia', 'Return_to_owner', 'Transfer'])\n",
    "    output.index.names = ['ID']\n",
    "    output.index += 1\n",
    "    output.to_csv('./output/Sub-' + file_name, index_label='ID')"
   ]
  },
  {
   "cell_type": "code",
   "execution_count": 172,
   "metadata": {
    "collapsed": true
   },
   "outputs": [],
   "source": [
    "model.fit(param, res) # fit the data\n",
    "predictions = model.predict(test_data) # make predictions\n",
    "create_output_file(predictions, 'Gaussian-NB.csv')"
   ]
  },
  {
   "cell_type": "markdown",
   "metadata": {},
   "source": [
    "### Naive Bayes with Pipeline and GridSearchCV"
   ]
  },
  {
   "cell_type": "code",
   "execution_count": 177,
   "metadata": {
    "collapsed": false
   },
   "outputs": [],
   "source": [
    "pipeline = Pipeline([\n",
    "        ('featureSelection', SelectKBest(f_classif)),\n",
    "        ('classifier', GaussianNB())\n",
    "    ])\n",
    "params = {\n",
    "    \"featureSelection__k\" : [2, 3, 4]\n",
    "    }\n",
    "# grid_search = GridSearchCV(pipeline, params, n_jobs=-1, scoring='neg_log_loss')\n",
    "grid_search = GridSearchCV(pipeline, params, n_jobs=-1)"
   ]
  },
  {
   "cell_type": "code",
   "execution_count": 178,
   "metadata": {
    "collapsed": false
   },
   "outputs": [
    {
     "name": "stdout",
     "output_type": "stream",
     "text": [
      "[mean: 0.62075, std: 0.00340, params: {'featureSelection__k': 2}, mean: 0.62711, std: 0.00446, params: {'featureSelection__k': 3}, mean: 0.61667, std: 0.00405, params: {'featureSelection__k': 4}]\n"
     ]
    }
   ],
   "source": [
    "grid_search.fit(param, res)\n",
    "print (grid_search.grid_scores_)\n",
    "# predictions = grid_search.predict_proba(test_data) # predict_proba predicts the probability of each outcome\n",
    "predictions = grid_search.predict(test_data) # predict method predicts the outcome of the tuple\n",
    "create_output_file(predictions, 'Gaussian-NB-grid-search.csv')"
   ]
  }
 ],
 "metadata": {
  "kernelspec": {
   "display_name": "Python 2",
   "language": "python",
   "name": "python2"
  },
  "language_info": {
   "codemirror_mode": {
    "name": "ipython",
    "version": 2
   },
   "file_extension": ".py",
   "mimetype": "text/x-python",
   "name": "python",
   "nbconvert_exporter": "python",
   "pygments_lexer": "ipython2",
   "version": "2.7.12"
  }
 },
 "nbformat": 4,
 "nbformat_minor": 1
}
