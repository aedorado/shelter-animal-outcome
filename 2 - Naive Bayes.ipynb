{
 "cells": [
  {
   "cell_type": "code",
   "execution_count": 45,
   "metadata": {
    "collapsed": false
   },
   "outputs": [],
   "source": [
    "from sklearn.naive_bayes import GaussianNB \n",
    "from sklearn import cross_validation\n",
    "from time import time\n",
    "import numpy as np\n",
    "import pandas as pd"
   ]
  },
  {
   "cell_type": "code",
   "execution_count": 46,
   "metadata": {
    "collapsed": true
   },
   "outputs": [],
   "source": [
    "train_data = pd.read_csv('train_prep.csv')\n",
    "test_data = pd.read_csv('test_prep.csv')"
   ]
  },
  {
   "cell_type": "code",
   "execution_count": 47,
   "metadata": {
    "collapsed": false
   },
   "outputs": [],
   "source": [
    "param = train_data.ix[:, :-1] # take all rows and all but last column from training data\n",
    "res = train_data.ix[:, -1] # take all rows and only last column from training data\n",
    "test_data = test_data.drop('ID', 1) # drop ID column from test data"
   ]
  },
  {
   "cell_type": "code",
   "execution_count": 82,
   "metadata": {
    "collapsed": false
   },
   "outputs": [
    {
     "data": {
      "text/plain": [
       "array([-1.13309323, -1.21357119, -1.2124326 ])"
      ]
     },
     "execution_count": 82,
     "metadata": {},
     "output_type": "execute_result"
    }
   ],
   "source": [
    "model = GaussianNB()\n",
    "cross_validation.cross_val_score(model, param, res, scoring=\"neg_log_loss\")\n",
    "# cross_validation.cross_val_score(model, param, res, cv=5)"
   ]
  },
  {
   "cell_type": "code",
   "execution_count": 85,
   "metadata": {
    "collapsed": false
   },
   "outputs": [],
   "source": [
    "# create output file\n",
    "def create_output_file(data, file_name):\n",
    "    output = []\n",
    "    for pred in data:\n",
    "        oi = [0] * 5\n",
    "        oi[pred - 1] = 1\n",
    "        output.append(oi)\n",
    "    output = pd.DataFrame(output, columns=['Adoption', 'Died', 'Euthanasia', 'Return_to_owner', 'Transfer'])\n",
    "    output.index.names = ['ID']\n",
    "    output.index += 1\n",
    "    output.to_csv(file_name, index_label='ID')"
   ]
  },
  {
   "cell_type": "code",
   "execution_count": 86,
   "metadata": {
    "collapsed": true
   },
   "outputs": [],
   "source": [
    "model.fit(param, res) # fit the data\n",
    "predictions = model.predict(test_data) # make predictions\n",
    "create_output_file(predictions, 'Gaussian-NB.csv')"
   ]
  }
 ],
 "metadata": {
  "kernelspec": {
   "display_name": "Python 2",
   "language": "python",
   "name": "python2"
  },
  "language_info": {
   "codemirror_mode": {
    "name": "ipython",
    "version": 2
   },
   "file_extension": ".py",
   "mimetype": "text/x-python",
   "name": "python",
   "nbconvert_exporter": "python",
   "pygments_lexer": "ipython2",
   "version": "2.7.12"
  }
 },
 "nbformat": 4,
 "nbformat_minor": 1
}
