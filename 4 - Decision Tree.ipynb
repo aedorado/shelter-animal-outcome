{
 "cells": [
  {
   "cell_type": "markdown",
   "metadata": {},
   "source": [
    "## 4 - Decision Tree"
   ]
  },
  {
   "cell_type": "code",
   "execution_count": 31,
   "metadata": {
    "collapsed": false
   },
   "outputs": [],
   "source": [
    "from sklearn.tree import DecisionTreeClassifier\n",
    "from sklearn import cross_validation\n",
    "from sklearn.feature_selection import SelectKBest, chi2, f_classif\n",
    "from sklearn.grid_search import GridSearchCV\n",
    "from sklearn.pipeline import Pipeline\n",
    "from time import time\n",
    "from operator import itemgetter\n",
    "import numpy as np\n",
    "import pandas as pd"
   ]
  },
  {
   "cell_type": "code",
   "execution_count": 5,
   "metadata": {
    "collapsed": true
   },
   "outputs": [],
   "source": [
    "train_data = pd.read_csv('./input/train_prep.csv')\n",
    "test_data = pd.read_csv('./input/test_prep.csv')\n",
    "\n",
    "param = train_data.ix[:, :-1] # take all rows and all but last column from training data\n",
    "res = train_data.ix[:, -1] # take all rows and only last column from training data\n",
    "test_data = test_data.drop('ID', 1) # drop ID column from test data"
   ]
  },
  {
   "cell_type": "code",
   "execution_count": 6,
   "metadata": {
    "collapsed": true
   },
   "outputs": [],
   "source": [
    "# create output file\n",
    "def create_output_file(data, file_name):\n",
    "    output = []\n",
    "    for pred in data:\n",
    "        oi = [0] * 5\n",
    "        oi[pred - 1] = 1\n",
    "        output.append(oi)\n",
    "    output = pd.DataFrame(output, columns=['Adoption', 'Died', 'Euthanasia', 'Return_to_owner', 'Transfer'])\n",
    "    output.index.names = ['ID']\n",
    "    output.index += 1\n",
    "    output.to_csv('./output/Sub-' + file_name, index_label='ID')"
   ]
  },
  {
   "cell_type": "code",
   "execution_count": 13,
   "metadata": {
    "collapsed": false
   },
   "outputs": [
    {
     "data": {
      "text/plain": [
       "array([ 0.59290844,  0.59753086,  0.59840575])"
      ]
     },
     "execution_count": 13,
     "metadata": {},
     "output_type": "execute_result"
    }
   ],
   "source": [
    "dt = DecisionTreeClassifier()\n",
    "cross_validation.cross_val_score(dt, param, res)"
   ]
  },
  {
   "cell_type": "code",
   "execution_count": 18,
   "metadata": {
    "collapsed": false
   },
   "outputs": [
    {
     "name": "stdout",
     "output_type": "stream",
     "text": [
      "[4 1 5 ..., 5 1 3]\n"
     ]
    }
   ],
   "source": [
    "dt.fit(param, res)\n",
    "pred = dt.predict(test_data)\n",
    "create_output_file(pred, \"DT.csv\")\n",
    "print pred"
   ]
  },
  {
   "cell_type": "markdown",
   "metadata": {},
   "source": [
    "### Pipeline and GridSearchCV"
   ]
  },
  {
   "cell_type": "code",
   "execution_count": 25,
   "metadata": {
    "collapsed": true
   },
   "outputs": [],
   "source": [
    "params = {\n",
    "    \"featureSelection__k\" : [2, 3, 4],\n",
    "    \"clf__criterion\": [\"gini\", \"entropy\"],\n",
    "    \"clf__max_features\": [0.75, 1.0],\n",
    "    \"clf__min_samples_split\": [2, 3, 10, 30],\n",
    "    \"clf__min_samples_leaf\": [2, 3, 10, 30],\n",
    "    \"clf__min_weight_fraction_leaf\": [0.0, 0.1, 0.3],\n",
    "    \"clf__max_depth\": [3, 10, 30, None]\n",
    "}\n",
    "pipeline = Pipeline([\n",
    "        ('featureSelection', SelectKBest(f_classif)),\n",
    "        ('clf', DecisionTreeClassifier())\n",
    "    ])\n",
    "grid_search = GridSearchCV(pipeline, params, n_jobs=-1)"
   ]
  },
  {
   "cell_type": "code",
   "execution_count": 28,
   "metadata": {
    "collapsed": false
   },
   "outputs": [],
   "source": [
    "def report(grid_scores, n_top=3):\n",
    "    top_scores = sorted(grid_scores, key=itemgetter(1), reverse=True)[:n_top]\n",
    "    for i, score in enumerate(top_scores):\n",
    "        print(\"Model with rank: {0}\".format(i + 1))\n",
    "        print(\"Mean validation score: {0:.3f} (std: {1:.3f})\".format(\n",
    "              score.mean_validation_score,\n",
    "              np.std(score.cv_validation_scores)))\n",
    "        print(\"Parameters: {0}\".format(score.parameters))\n",
    "        print(\"\")"
   ]
  },
  {
   "cell_type": "code",
   "execution_count": 29,
   "metadata": {
    "collapsed": false
   },
   "outputs": [
    {
     "name": "stdout",
     "output_type": "stream",
     "text": [
      "Model with rank: 1\n",
      "Mean validation score: 0.634 (std: 0.004)\n",
      "Parameters: {'featureSelection__k': 3, 'clf__criterion': 'entropy', 'clf__max_depth': None, 'clf__min_weight_fraction_leaf': 0.0, 'clf__min_samples_leaf': 10, 'clf__max_features': 0.75, 'clf__min_samples_split': 10}\n",
      "\n",
      "Model with rank: 2\n",
      "Mean validation score: 0.634 (std: 0.003)\n",
      "Parameters: {'featureSelection__k': 3, 'clf__criterion': 'entropy', 'clf__max_depth': 30, 'clf__min_weight_fraction_leaf': 0.0, 'clf__min_samples_leaf': 30, 'clf__max_features': 0.75, 'clf__min_samples_split': 2}\n",
      "\n",
      "Model with rank: 3\n",
      "Mean validation score: 0.634 (std: 0.004)\n",
      "Parameters: {'featureSelection__k': 3, 'clf__criterion': 'gini', 'clf__max_depth': None, 'clf__min_weight_fraction_leaf': 0.0, 'clf__min_samples_leaf': 10, 'clf__max_features': 0.75, 'clf__min_samples_split': 2}\n",
      "\n"
     ]
    }
   ],
   "source": [
    "grid_search.fit(param, res)\n",
    "report(grid_search.grid_scores_)"
   ]
  },
  {
   "cell_type": "code",
   "execution_count": 36,
   "metadata": {
    "collapsed": false
   },
   "outputs": [
    {
     "data": {
      "text/plain": [
       "array([[ 0.16666667,  0.        ,  0.16666667,  0.16666667,  0.5       ],\n",
       "       [ 0.53795066,  0.00189753,  0.0256167 ,  0.26091082,  0.17362429],\n",
       "       [ 0.392     ,  0.        ,  0.02      ,  0.1       ,  0.488     ],\n",
       "       [ 0.01612903,  0.01612903,  0.08064516,  0.08064516,  0.80645161],\n",
       "       [ 0.4424981 ,  0.00152323,  0.03884235,  0.31302361,  0.20411272]])"
      ]
     },
     "execution_count": 36,
     "metadata": {},
     "output_type": "execute_result"
    }
   ],
   "source": [
    "pred = grid_search.predict(test_data)\n",
    "create_output_file(pred, \"DT-grid-search.csv\")\n",
    "grid_search.predict_proba(test_data)[:5]"
   ]
  },
  {
   "cell_type": "code",
   "execution_count": null,
   "metadata": {
    "collapsed": true
   },
   "outputs": [],
   "source": []
  }
 ],
 "metadata": {
  "kernelspec": {
   "display_name": "Python 2",
   "language": "python",
   "name": "python2"
  },
  "language_info": {
   "codemirror_mode": {
    "name": "ipython",
    "version": 2
   },
   "file_extension": ".py",
   "mimetype": "text/x-python",
   "name": "python",
   "nbconvert_exporter": "python",
   "pygments_lexer": "ipython2",
   "version": "2.7.12"
  }
 },
 "nbformat": 4,
 "nbformat_minor": 1
}
