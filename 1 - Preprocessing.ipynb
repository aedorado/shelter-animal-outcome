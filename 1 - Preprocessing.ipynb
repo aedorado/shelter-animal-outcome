{
 "cells": [
  {
   "cell_type": "code",
   "execution_count": 96,
   "metadata": {
    "collapsed": true
   },
   "outputs": [],
   "source": [
    "import pandas as pd\n",
    "import numpy as np"
   ]
  },
  {
   "cell_type": "code",
   "execution_count": 97,
   "metadata": {
    "collapsed": true
   },
   "outputs": [],
   "source": [
    "train_data = pd.read_csv('train.csv')\n",
    "test_data = pd.read_csv('test.csv')"
   ]
  },
  {
   "cell_type": "code",
   "execution_count": 98,
   "metadata": {
    "collapsed": true
   },
   "outputs": [],
   "source": [
    "def mutate_data(data, train):\n",
    "    data['IsCat'] = data['AnimalType'].map({'Cat':1, 'Dog':0})\n",
    "    data['Gender'] = data['SexuponOutcome'].map({'Neutered Male':1, 'Spayed Female':2, 'Intact Male':3, 'Intact Female':4, 'Unknown':5, np.nan:0})\n",
    "    \n",
    "    # map age to weeks\n",
    "    allAges = data.AgeuponOutcome\n",
    "    age_in_days = []\n",
    "    for age in allAges:\n",
    "        try:\n",
    "            n = int(age[0 : age.find(' ')])\n",
    "            dur = age[age.find(' ') + 1]\n",
    "            if (dur == 'd'):\n",
    "                age_in_days.append(n)\n",
    "            elif (dur == 'w'):\n",
    "                age_in_days.append(n * 7)\n",
    "            elif (dur == 'm'):\n",
    "                age_in_days.append(n * 30)\n",
    "            else:\n",
    "                age_in_days.append(n * 365)\n",
    "        except AttributeError:\n",
    "            age_in_days.append(0)\n",
    "    maxage = max(age_in_days)\n",
    "    norm_age_in_days = [ float(i) / maxage for i in age_in_days]\n",
    "    data['Age'] = norm_age_in_days\n",
    "    \n",
    "    # map breed to number\n",
    "    breeds = data.Breed.unique()\n",
    "    breed_map = {}\n",
    "    for breed in breeds:\n",
    "        breed_map[breed] = len(breed_map)\n",
    "    data['Breed'] = data['Breed'].map(breed_map)\n",
    "    \n",
    "    if (train):\n",
    "        data['Outcome'] = data['OutcomeType'].map({'Adoption':1, 'Died':2, 'Euthanasia':3, 'Return_to_owner':4, 'Transfer':5})\n",
    "        data = data.drop('OutcomeSubtype', 1)\n",
    "        data = data.drop('OutcomeType', 1)\n",
    "        data = data.drop('AnimalID', 1)\n",
    "        \n",
    "    return data.drop(['SexuponOutcome', 'AnimalType', 'Name', 'DateTime', 'Color', 'AgeuponOutcome'], 1)"
   ]
  },
  {
   "cell_type": "code",
   "execution_count": 99,
   "metadata": {
    "collapsed": false
   },
   "outputs": [],
   "source": [
    "train_prep = mutate_data(train_data, True)\n",
    "train_prep.to_csv('./train_prep.csv', index= False)"
   ]
  },
  {
   "cell_type": "code",
   "execution_count": 102,
   "metadata": {
    "collapsed": false
   },
   "outputs": [],
   "source": [
    "test_prep = mutate_data(test_data, False)\n",
    "test_prep.to_csv('./test_prep.csv', index= False)"
   ]
  }
 ],
 "metadata": {
  "kernelspec": {
   "display_name": "Python 2",
   "language": "python",
   "name": "python2"
  },
  "language_info": {
   "codemirror_mode": {
    "name": "ipython",
    "version": 2
   },
   "file_extension": ".py",
   "mimetype": "text/x-python",
   "name": "python",
   "nbconvert_exporter": "python",
   "pygments_lexer": "ipython2",
   "version": "2.7.12"
  }
 },
 "nbformat": 4,
 "nbformat_minor": 1
}
